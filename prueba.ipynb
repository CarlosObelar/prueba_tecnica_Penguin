{
 "cells": [
  {
   "cell_type": "markdown",
   "metadata": {},
   "source": [
    "# Escribir una función que tome una lista de números y devuelva el número más grande."
   ]
  },
  {
   "cell_type": "code",
   "execution_count": 2,
   "metadata": {},
   "outputs": [
    {
     "name": "stdout",
     "output_type": "stream",
     "text": [
      "El número más grande de la lista [2, 9, 8, 3, 6, 4, 1, 15, 7, 5] es el número= 15\n"
     ]
    }
   ],
   "source": [
    "# Creamos una función que nos devuelva el número más grande de una lista.\n",
    "def mayor(lista):\n",
    "    lista_ordenada = sorted(lista)      # Ordenamos la lista utilizando la función sorted(), que nos permite ordenar una lista de mayor a menor.\n",
    "    return lista_ordenada[-1]           # Retornamos el número más grande utilizando el índice -1.\n",
    "\n",
    "\n",
    "# Ingresamos la lista a ser analizada.\n",
    "lista1 = [2, 9, 8, 3, 6, 4, 1, 15, 7, 5]\n",
    "\n",
    "# Llamamos a la función e imprimimos el resultado.\n",
    "print(f\"El número más grande de la lista {lista1} es el número= {mayor(lista1)}\")"
   ]
  },
  {
   "cell_type": "markdown",
   "metadata": {},
   "source": [
    "# Escribir una función que tome una lista de números y devuelva una lista con los números ordenados de menor a mayor."
   ]
  },
  {
   "cell_type": "code",
   "execution_count": 3,
   "metadata": {},
   "outputs": [
    {
     "name": "stdout",
     "output_type": "stream",
     "text": [
      "La lista original es la siguiente: [2, 9, 8, 3, 6, 4, 1, 15, 7, 5]\n",
      "La lista ordenada es la siguiente: [1, 2, 3, 4, 5, 6, 7, 8, 9, 15]\n"
     ]
    }
   ],
   "source": [
    "# Creamos una función que nos devuelva una lista ordenada de menor a mayor.\n",
    "def ordenado(lista):\n",
    "    lista_ordenada = sorted(lista)      # Ordenamos la lista utilizando la función sorted(), que nos permite ordenar una lista de mayor a menor.\n",
    "    return lista_ordenada               # Retornamos la lista ordenada.\n",
    "\n",
    "\n",
    "# Ingresamos la lista a ser analizada.\n",
    "lista2 = [2, 9, 8, 3, 6, 4, 1, 15, 7, 5]\n",
    "\n",
    "# Llamamos a la función e imprimimos el resultado.\n",
    "print(f\"La lista original es la siguiente: {lista2}\")\n",
    "print(f\"La lista ordenada es la siguiente: {ordenado(lista2)}\")"
   ]
  },
  {
   "cell_type": "markdown",
   "metadata": {},
   "source": [
    "# Escribir una función que tome una lista de números y devuelva la mediana (el número que está en el centro de la lista cuando está ordenada)."
   ]
  },
  {
   "cell_type": "code",
   "execution_count": 8,
   "metadata": {},
   "outputs": [
    {
     "name": "stdout",
     "output_type": "stream",
     "text": [
      "La mediana cuando la longitud de la lista es par: 5.5\n",
      "La mediana cuando la longitud de la lista es impar: 5\n"
     ]
    }
   ],
   "source": [
    "# Creamos la función que nos permitirá encontrar la mediana de una lista.\n",
    "def mediana(lista):\n",
    "    lista_ordenada = sorted(lista)                              # Ordenamos la lista.\n",
    "    indice = len(lista_ordenada)                                # Guardamos la longitud de la lista en otra variable.\n",
    "    if indice % 2 == 0:                                         # Analizamos si la longitud de la lista es par.\n",
    "        medio_derecho = lista_ordenada[indice // 2]             # Guardamos el número \"medio\" derecho en una variable.\n",
    "        medio_izquierdo = lista_ordenada[(indice // 2) - 1]     # Guardamos el número \"medio\" izquierdo en una variable.\n",
    "        return (medio_derecho + medio_izquierdo) / 2            # Retornamos la mediana en el caso par.\n",
    "    else:                                                       # Caso sea impar.\n",
    "        return lista_ordenada[indice // 2]                      # Retornamos la mediana en el paso impar.\n",
    "    \n",
    "\n",
    "# Ingresamos las listas a ser analizadas.\n",
    "lista3A = [2, 9, 8, 3]          # 2, 3, 8, 9\n",
    "lista3B = [6, 4, 1, 7, 5]       # 1, 4, 5, 6, 7\n",
    "\n",
    "# Llamamos a las funciónes e imprimimos los resultados.\n",
    "print(f\"La mediana cuando la longitud de la lista es par: {mediana(lista3A)}\")\n",
    "print(f\"La mediana cuando la longitud de la lista es impar: {mediana(lista3B)}\")"
   ]
  }
 ],
 "metadata": {
  "kernelspec": {
   "display_name": "Python 3",
   "language": "python",
   "name": "python3"
  },
  "language_info": {
   "codemirror_mode": {
    "name": "ipython",
    "version": 3
   },
   "file_extension": ".py",
   "mimetype": "text/x-python",
   "name": "python",
   "nbconvert_exporter": "python",
   "pygments_lexer": "ipython3",
   "version": "3.12.0"
  }
 },
 "nbformat": 4,
 "nbformat_minor": 2
}
